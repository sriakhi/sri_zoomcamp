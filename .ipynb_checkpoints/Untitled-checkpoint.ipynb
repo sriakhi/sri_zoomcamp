{
 "cells": [
  {
   "cell_type": "code",
   "execution_count": 1,
   "id": "f92b2e56-3e45-4339-a317-64ae847c597f",
   "metadata": {},
   "outputs": [
    {
     "name": "stdout",
     "output_type": "stream",
     "text": [
      "Srinivas\n"
     ]
    }
   ],
   "source": [
    "print(\"Srinivas\")"
   ]
  },
  {
   "cell_type": "code",
   "execution_count": null,
   "id": "91936c11-5bf4-49ac-a663-133ea3577bb8",
   "metadata": {},
   "outputs": [],
   "source": []
  }
 ],
 "metadata": {
  "kernelspec": {
   "display_name": "Python 3 (ipykernel)",
   "language": "python",
   "name": "python3"
  },
  "language_info": {
   "codemirror_mode": {
    "name": "ipython",
    "version": 3
   },
   "file_extension": ".py",
   "mimetype": "text/x-python",
   "name": "python",
   "nbconvert_exporter": "python",
   "pygments_lexer": "ipython3",
   "version": "3.10.13"
  }
 },
 "nbformat": 4,
 "nbformat_minor": 5
}
